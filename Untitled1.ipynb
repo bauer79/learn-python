{
  "nbformat": 4,
  "nbformat_minor": 0,
  "metadata": {
    "colab": {
      "name": "Untitled1.ipynb",
      "version": "0.3.2",
      "provenance": [],
      "include_colab_link": true
    },
    "kernelspec": {
      "name": "python3",
      "display_name": "Python 3"
    }
  },
  "cells": [
    {
      "cell_type": "markdown",
      "metadata": {
        "id": "view-in-github",
        "colab_type": "text"
      },
      "source": [
        "<a href=\"https://colab.research.google.com/github/bauer79/learn-python/blob/master/Untitled1.ipynb\" target=\"_parent\"><img src=\"https://colab.research.google.com/assets/colab-badge.svg\" alt=\"Open In Colab\"/></a>"
      ]
    },
    {
      "metadata": {
        "id": "pDIGDYGK3t0T",
        "colab_type": "code",
        "outputId": "be362ad0-bd0f-4f4b-ea08-cb95d4e5f627",
        "colab": {
          "base_uri": "https://localhost:8080/",
          "height": 343
        }
      },
      "cell_type": "code",
      "source": [
        "\n",
        "import tensorflow as tf\n",
        "import numpy as np\n",
        "import matplotlib.pyplot as plt\n",
        " \n",
        " \n",
        "#生成随机变量\n",
        "x_data = np.linspace(-1, 1, 200)#生成200个随机点，范围为-1 --> 1\n",
        "x_data = x_data.reshape((200, 1))#维度设置为(200, 1)\n",
        "noise = np.random.normal(0, 0.02, x_data.shape)#生成干扰项\n",
        " \n",
        "y_data = np.square(x_data) + noise\n",
        " \n",
        "x = tf.placeholder(tf.float32, [200, 1])\n",
        "y = tf.placeholder(tf.float32, [200, 1])\n",
        " \n",
        "#定义神经网络中间层权值\n",
        "weights_l1 = tf.Variable(tf.random_normal([1, 10]))#10个神经元\n",
        "biases_l1 = tf.Variable(tf.zeros([1, 10]))\n",
        "wx_plust_b_l1 = tf.matmul(x, weights_l1) + biases_l1\n",
        "l1 = tf.nn.tanh(wx_plust_b_l1)#双曲正切函数作为激活函数\n",
        " \n",
        "#定义输出层\n",
        "weights_l2 = tf.Variable(tf.random_normal([10, 1]))#输出层1个神经元\n",
        "biases_l2 = tf.Variable(tf.zeros([1, 1]))#一个偏置\n",
        "wx_plust_b_l2 = tf.matmul(l1, weights_l2) + biases_l2\n",
        "prediction = tf.nn.tanh(wx_plust_b_l2)#预测结果\n",
        " \n",
        "#代价函数\n",
        "loss = tf.reduce_mean(tf.square(y - prediction))\n",
        "#使用梯度下降\n",
        "train_step = tf.train.GradientDescentOptimizer(0.1).minimize(loss)#学习率设置为0.1\n",
        " \n",
        "with tf.Session() as sess:\n",
        "    sess.run(tf.global_variables_initializer())#变量初始化，一定要做\n",
        "    for _ in range(20000):\n",
        "        sess.run(train_step, feed_dict={x:x_data, y:y_data})#使用梯度下降法进行训练参数\n",
        " \n",
        "    #获得预测值\n",
        "    prediction_value = sess.run(prediction, feed_dict={x: x_data})#得到预测结果\n",
        " \n",
        "    #画图\n",
        "    plt.figure()\n",
        "    plt.scatter(x_data, y_data)#画散点图\n",
        "    plt.plot(x_data, prediction_value, 'r-', lw = 5)#画预测的实线，红色\n",
        "    plt.show()\n",
        "\n"
      ],
      "execution_count": 0,
      "outputs": [
        {
          "output_type": "stream",
          "text": [
            "WARNING:tensorflow:From /usr/local/lib/python3.6/dist-packages/tensorflow/python/framework/op_def_library.py:263: colocate_with (from tensorflow.python.framework.ops) is deprecated and will be removed in a future version.\n",
            "Instructions for updating:\n",
            "Colocations handled automatically by placer.\n"
          ],
          "name": "stdout"
        },
        {
          "output_type": "display_data",
          "data": {
            "image/png": "[encoded data removed]",
            "text/plain": [
              "<Figure size 432x288 with 1 Axes>"
            ]
          },
          "metadata": {
            "tags": []
          }
        }
      ]
    },
    {
      "metadata": {
        "id": "e5ve-IBC5_ct",
        "colab_type": "code",
        "colab": {
          "base_uri": "https://localhost:8080/",
          "height": 799
        },
        "outputId": "fd693890-3453-4241-92e9-f599c37ab81e"
      },
      "cell_type": "code",
      "source": [
        "import matplotlib.pyplot as plt\n",
        "import numpy as np\n",
        "import tensorflow as tf\n",
        "from sklearn import datasets\n",
        "from tensorflow.python.framework import ops\n",
        " \n",
        "(x_vals, y_vals) = datasets.make_circles(n_samples=350, factor=.5, noise=.1)\n",
        "y_vals = np.array([1 if y==1 else -1 for y in y_vals])\n",
        " \n",
        "#plot points\n",
        "class1_x = [x[0] for i,x in enumerate(x_vals) if y_vals[i]==1]\n",
        "class1_y = [x[1] for i,x in enumerate(x_vals) if y_vals[i]==1]\n",
        "class2_x = [x[0] for i,x in enumerate(x_vals) if y_vals[i]==-1]\n",
        "class2_y = [x[1] for i,x in enumerate(x_vals) if y_vals[i]==-1]\n",
        " \n",
        " \n",
        "%matplotlib inline\n",
        "plt.plot(class1_x, class1_y, 'ro', label='Class 1')\n",
        "plt.plot(class2_x, class2_y, 'kx', label='Class -1')\n",
        "plt.title('distrubtion')\n",
        "plt.xlabel('x')\n",
        "plt.ylabel('y')\n",
        "plt.ylim([-1.5, 1.5])\n",
        "plt.xlim([-1.5, 1.5])\n",
        "plt.show()\n",
        " \n",
        "#data processing\n",
        "x = np.transpose(x_vals)     #shape=(features,examples)\n",
        "y = y_vals.reshape((1,-1))   #shape=(targets,examples)\n",
        " \n",
        " \n",
        "# Split data into train/test sets\n",
        "train_indices = np.random.choice(len(x_vals),round(len(x_vals)*0.8),replace=False)\n",
        "test_indices = np.array(list(set(range(len(x_vals))) - set(train_indices)))\n",
        "x_train = x[:,train_indices]\n",
        "x_test = x[:,test_indices]\n",
        "y_train = y[:,train_indices]\n",
        "y_test = y[:,test_indices]\n",
        " \n",
        "def model(x_train,y_train,x_test,y_test,learning_rate=0.01):\n",
        "    ops.reset_default_graph()\n",
        "    \n",
        "    X_place = tf.placeholder(tf.float32,[2,None])\n",
        "    Y_place = tf.placeholder(tf.float32,[1,None])\n",
        " \n",
        " \n",
        "    w = tf.Variable(tf.random_normal(shape=[1,x_train.shape[1]]))\n",
        "    b = tf.Variable(tf.random_normal(shape=[1,1]))\n",
        "    \n",
        "    #compute Gaussian Kernel \n",
        "    gamma = tf.constant(-10.0)\n",
        "    dist = tf.reduce_sum(tf.square(tf.transpose(X_place)), 1)\n",
        "    dist = tf.reshape(dist, [-1,1])\n",
        "    sq_dists = tf.add(tf.subtract(dist, tf.multiply(2., tf.matmul(tf.transpose(X_place),X_place))), tf.transpose(dist))\n",
        "    my_kernel = tf.exp(tf.multiply(gamma, sq_dists))\n",
        "    output = tf.add(tf.matmul(w,my_kernel),b)\n",
        "    \n",
        "    loss = tf.reduce_mean(tf.maximum(0.,tf.subtract(1.,tf.multiply(output,Y_place)))) + tf.matmul(w,tf.transpose(w))\n",
        "    optimizer = tf.train.GradientDescentOptimizer(learning_rate=learning_rate).minimize(loss)\n",
        "    \n",
        "    init = tf.global_variables_initializer()\n",
        "    \n",
        "    with tf.Session() as sess:\n",
        "        sess.run(init)\n",
        "        train_loss = []\n",
        "        \n",
        "        for epoch in range(1000):\n",
        "            _,train_cost = sess.run([optimizer,loss],feed_dict={X_place:x_train,Y_place:y_train})\n",
        "            train_loss.append(train_cost)\n",
        "            \n",
        "            if (epoch+1)%50==0:\n",
        "                print('epoch'+str(epoch+1)+'cost:'+str(train_cost))\n",
        "                \n",
        "        w_new = sess.run(w)\n",
        "        b_new = sess.run(b)\n",
        "        \n",
        "        x_trainfloat = tf.to_float(x_train)\n",
        "        x_testfloat = tf.to_float(x_test)\n",
        "        \n",
        "        dist = tf.reduce_sum(tf.square(tf.transpose(x_trainfloat)), 1)\n",
        "        dist = tf.reshape(dist, [-1,1])\n",
        "        sq_dists = tf.add(tf.subtract(dist, tf.multiply(2., tf.matmul(tf.transpose(x_trainfloat),x_trainfloat))), tf.transpose(dist))\n",
        "        my_kernel = tf.exp(tf.multiply(gamma, sq_dists))\n",
        "        predict_train = tf.add(tf.matmul(w_new,my_kernel),b_new)\n",
        "        prediction = tf.sign(predict_train)\n",
        "        accuracy = tf.reduce_mean(tf.cast(tf.equal(prediction, y_train), tf.float32))\n",
        "        train_accuracy = sess.run(accuracy)\n",
        "        print('train_accuracy:' + str(train_accuracy))\n",
        "        \n",
        "        j = 0.\n",
        "        for i in range(x_test.shape[1]):\n",
        "            k = np.array([[x_test[0,i]],[x_test[1,i]]])\n",
        "            a = np.add(np.dot(np.exp(np.sum(np.square(x_train - k),0)* (-10)),np.transpose(w_new)),b_new)\n",
        "            if a*y_test[0,i]>0:\n",
        "                 j = j+1.\n",
        "        test_accuracy = j/x_test.shape[1]\n",
        "        print('test_accuracy:' + str(test_accuracy))\n",
        "    return train_loss    \n",
        "train_loss = model(x_train,y_train,x_test,y_test)\n"
      ],
      "execution_count": 1,
      "outputs": [
        {
          "output_type": "display_data",
          "data": {
            "image/png": "[encoded data removed]",
            "text/plain": [
              "<Figure size 432x288 with 1 Axes>"
            ]
          },
          "metadata": {
            "tags": []
          }
        },
        {
          "output_type": "stream",
          "text": [
            "WARNING:tensorflow:From /usr/local/lib/python3.6/dist-packages/tensorflow/python/framework/op_def_library.py:263: colocate_with (from tensorflow.python.framework.ops) is deprecated and will be removed in a future version.\n",
            "Instructions for updating:\n",
            "Colocations handled automatically by placer.\n",
            "epoch50cost:[[36.60374]]\n",
            "epoch100cost:[[5.590559]]\n",
            "epoch150cost:[[1.4420943]]\n",
            "epoch200cost:[[0.8815341]]\n",
            "epoch250cost:[[0.8034998]]\n",
            "epoch300cost:[[0.790285]]\n",
            "epoch350cost:[[0.78627944]]\n",
            "epoch400cost:[[0.78353554]]\n",
            "epoch450cost:[[0.7809588]]\n",
            "epoch500cost:[[0.77840424]]\n",
            "epoch550cost:[[0.77585274]]\n",
            "epoch600cost:[[0.77330166]]\n",
            "epoch650cost:[[0.7707505]]\n",
            "epoch700cost:[[0.7681995]]\n",
            "epoch750cost:[[0.7656485]]\n",
            "epoch800cost:[[0.7630974]]\n",
            "epoch850cost:[[0.7605463]]\n",
            "epoch900cost:[[0.7579954]]\n",
            "epoch950cost:[[0.7554444]]\n",
            "epoch1000cost:[[0.7528935]]\n",
            "WARNING:tensorflow:From <ipython-input-1-256fed6d69c4>:77: to_float (from tensorflow.python.ops.math_ops) is deprecated and will be removed in a future version.\n",
            "Instructions for updating:\n",
            "Use tf.cast instead.\n",
            "train_accuracy:1.0\n",
            "test_accuracy:1.0\n"
          ],
          "name": "stdout"
        }
      ]
    }
  ]
}